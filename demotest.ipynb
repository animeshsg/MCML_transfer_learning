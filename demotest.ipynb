{
 "cells": [
  {
   "cell_type": "code",
   "execution_count": 1,
   "metadata": {},
   "outputs": [],
   "source": [
    "\n",
    "LABEL_DICTIONARY = {\n",
    "    \"S1\": \"Very positive\",\n",
    "    \"S2\": \"Positive\",\n",
    "    \"S3\": \"Neutral\",\n",
    "    \"S4\": \"Negative\",\n",
    "    \"S5\": \"Very negative\",\n",
    "    \"E1\": \"Satisfaction\",\n",
    "    \"E2\": \"Insatisfaction\",\n",
    "    \"E3\": \"Anger\",\n",
    "    \"E4\": \"Agressivity\",\n",
    "    \"E5\": \"Sadness/Demotivation\",\n",
    "    \"E6\": \"Fear\",\n",
    "    \"E7\": \"Distress/Serious situation\",\n",
    "    \"E8\": \"Reclamation\",\n",
    "    \"E10\": \"Urgency\",\n",
    "    \"E11\": \"Happiness\",\n",
    "    \"C1\": \"Physical Framework\",\n",
    "    \"C2\": \"Unreachability\",\n",
    "    \"C3\": \"Direct interaction\",\n",
    "    \"C4\": \"Service/Problem resolution\",\n",
    "    \"C5\": \"Complexity/Simplicity\",\n",
    "    \"C6\": \"Errors\",\n",
    "    \"C10\": \"Address/Schedule\",\n",
    "    \"C11\": \"Self-service\",\n",
    "    \"C12\": \"Delay of treatment\",\n",
    "    \"C7\": \"Other causes\",\n",
    "    \"C8\": \"I don't understand\",\n",
    "    \"C9\": \"No cause\",\n",
    "}"
   ]
  },
  {
   "cell_type": "code",
   "execution_count": 2,
   "metadata": {},
   "outputs": [
    {
     "ename": "NameError",
     "evalue": "name 'raw_train_ds' is not defined",
     "output_type": "error",
     "traceback": [
      "\u001b[0;31m---------------------------------------------------------------------------\u001b[0m",
      "\u001b[0;31mNameError\u001b[0m                                 Traceback (most recent call last)",
      "Cell \u001b[0;32mIn[2], line 6\u001b[0m\n\u001b[1;32m      3\u001b[0m distributions \u001b[39m=\u001b[39m []\n\u001b[1;32m      5\u001b[0m axs[\u001b[39m0\u001b[39m]\u001b[39m.\u001b[39mset_title(\u001b[39m\"\u001b[39m\u001b[39mTrain\u001b[39m\u001b[39m\"\u001b[39m); axs[\u001b[39m1\u001b[39m]\u001b[39m.\u001b[39mset_title(\u001b[39m\"\u001b[39m\u001b[39mValidation\u001b[39m\u001b[39m\"\u001b[39m)\n\u001b[0;32m----> 6\u001b[0m train_distributions \u001b[39m=\u001b[39m axs[\u001b[39m0\u001b[39m]\u001b[39m.\u001b[39mhist([label2id[l] \u001b[39mfor\u001b[39;00m l \u001b[39min\u001b[39;00m raw_train_ds[\u001b[39m\"\u001b[39m\u001b[39mglobal_score\u001b[39m\u001b[39m\"\u001b[39m]], bins\u001b[39m=\u001b[39m\u001b[39m5\u001b[39m)\n\u001b[1;32m      7\u001b[0m val_distributions \u001b[39m=\u001b[39m axs[\u001b[39m1\u001b[39m]\u001b[39m.\u001b[39mhist([label2id[l] \u001b[39mfor\u001b[39;00m l \u001b[39min\u001b[39;00m raw_val_ds[\u001b[39m\"\u001b[39m\u001b[39mglobal_score\u001b[39m\u001b[39m\"\u001b[39m]], bins\u001b[39m=\u001b[39m\u001b[39m5\u001b[39m)\n\u001b[1;32m      9\u001b[0m \u001b[39mfor\u001b[39;00m distributions, ax \u001b[39min\u001b[39;00m \u001b[39mzip\u001b[39m([train_distributions, val_distributions], axs):\n",
      "\u001b[0;31mNameError\u001b[0m: name 'raw_train_ds' is not defined"
     ]
    },
    {
     "data": {
      "image/png": "[encoded data removed]",
      "text/plain": [
       "<Figure size 640x480 with 2 Axes>"
      ]
     },
     "metadata": {},
     "output_type": "display_data"
    }
   ],
   "source": [
    "import matplotlib.pyplot as plt\n",
    "fig, axs = plt.subplots(1, 2, tight_layout=True)\n",
    "distributions = []\n",
    "\n",
    "axs[0].set_title(\"Train\"); axs[1].set_title(\"Validation\")\n",
    "train_distributions = axs[0].hist([label2id[l] for l in raw_train_ds[\"global_score\"]], bins=5)\n",
    "val_distributions = axs[1].hist([label2id[l] for l in raw_val_ds[\"global_score\"]], bins=5)\n",
    "\n",
    "for distributions, ax in zip([train_distributions, val_distributions], axs):\n",
    "    for j in range(5):\n",
    "        # Display the counts on each column of the histograms\n",
    "        ax.text(distributions[1][j], distributions[0][j], id2label[j] + \" (\" + str(int(distributions[0][j])) + \")\", weight=\"bold\")\n"
   ]
  },
  {
   "cell_type": "code",
   "execution_count": 3,
   "metadata": {},
   "outputs": [
    {
     "ename": "NameError",
     "evalue": "name 'ALL_LABELS' is not defined",
     "output_type": "error",
     "traceback": [
      "\u001b[0;31m---------------------------------------------------------------------------\u001b[0m",
      "\u001b[0;31mNameError\u001b[0m                                 Traceback (most recent call last)",
      "Cell \u001b[0;32mIn[3], line 20\u001b[0m\n\u001b[1;32m     17\u001b[0m EPOCHS \u001b[39m=\u001b[39m \u001b[39m50\u001b[39m\n\u001b[1;32m     19\u001b[0m \u001b[39m# Let's name the classes 0, 1, 2, 3, 4 like their indices\u001b[39;00m\n\u001b[0;32m---> 20\u001b[0m id2label \u001b[39m=\u001b[39m {k:l \u001b[39mfor\u001b[39;00m k, l \u001b[39min\u001b[39;00m \u001b[39menumerate\u001b[39m(ALL_LABELS)}\n\u001b[1;32m     21\u001b[0m label2id \u001b[39m=\u001b[39m {l:k \u001b[39mfor\u001b[39;00m k, l \u001b[39min\u001b[39;00m \u001b[39menumerate\u001b[39m(ALL_LABELS)}\n",
      "\u001b[0;31mNameError\u001b[0m: name 'ALL_LABELS' is not defined"
     ]
    }
   ],
   "source": [
    "import pandas as pd\n",
    "import numpy as np\n",
    "import json\n",
    "import torch\n",
    "\n",
    "from datasets import Dataset, load_metric\n",
    "from transformers import AutoTokenizer, AutoModelForSequenceClassification, DataCollatorWithPadding, Trainer, TrainerCallback, TrainingArguments\n",
    "from torch.utils.data import DataLoader\n",
    "\n",
    "from sklearn.metrics import f1_score, accuracy_score\n",
    "from sklearn.metrics import classification_report\n",
    "\n",
    "BASE_MODEL = \"camembert-base\"\n",
    "LEARNING_RATE = 1e-4\n",
    "MAX_LENGTH = 256\n",
    "BATCH_SIZE = 16\n",
    "EPOCHS = 50\n",
    "\n",
    "# Let's name the classes 0, 1, 2, 3, 4 like their indices\n",
    "id2label = {k:l for k, l in enumerate(ALL_LABELS)}\n",
    "label2id = {l:k for k, l in enumerate(ALL_LABELS)}"
   ]
  },
  {
   "cell_type": "code",
   "execution_count": 7,
   "metadata": {},
   "outputs": [
    {
     "name": "stderr",
     "output_type": "stream",
     "text": [
      "Using custom data configuration default-f8d5d4ba428de911\n",
      "Found cached dataset json (/Users/animeshsengupta/.cache/huggingface/datasets/json/default-f8d5d4ba428de911/0.0.0)\n",
      "Using custom data configuration default-73a76d806e75aabd\n"
     ]
    },
    {
     "name": "stdout",
     "output_type": "stream",
     "text": [
      "Downloading and preparing dataset json/default to /Users/animeshsengupta/.cache/huggingface/datasets/json/default-73a76d806e75aabd/0.0.0...\n"
     ]
    },
    {
     "data": {
      "application/vnd.jupyter.widget-view+json": {
       "model_id": "20e385326acd4053b71f2b0f0ad19d65",
       "version_major": 2,
       "version_minor": 0
      },
      "text/plain": [
       "Downloading data files:   0%|          | 0/1 [00:00<?, ?it/s]"
      ]
     },
     "metadata": {},
     "output_type": "display_data"
    },
    {
     "data": {
      "application/vnd.jupyter.widget-view+json": {
       "model_id": "fbfed4c65e0a4aa4a754b20fbf0def56",
       "version_major": 2,
       "version_minor": 0
      },
      "text/plain": [
       "Extracting data files:   0%|          | 0/1 [00:00<?, ?it/s]"
      ]
     },
     "metadata": {},
     "output_type": "display_data"
    },
    {
     "data": {
      "application/vnd.jupyter.widget-view+json": {
       "model_id": "39538d49b47b4cecb82b94a53a74a6bc",
       "version_major": 2,
       "version_minor": 0
      },
      "text/plain": [
       "Generating train split: 0 examples [00:00, ? examples/s]"
      ]
     },
     "metadata": {},
     "output_type": "display_data"
    },
    {
     "ename": "DatasetGenerationError",
     "evalue": "An error occurred while generating the dataset",
     "output_type": "error",
     "traceback": [
      "\u001b[0;31m---------------------------------------------------------------------------\u001b[0m",
      "\u001b[0;31mSchemaInferenceError\u001b[0m                      Traceback (most recent call last)",
      "File \u001b[0;32m/opt/homebrew/lib/python3.10/site-packages/datasets/builder.py:1842\u001b[0m, in \u001b[0;36mArrowBasedBuilder._prepare_split_single\u001b[0;34m(self, gen_kwargs, fpath, file_format, max_shard_size, job_id)\u001b[0m\n\u001b[1;32m   1841\u001b[0m num_shards \u001b[39m=\u001b[39m shard_id \u001b[39m+\u001b[39m \u001b[39m1\u001b[39m\n\u001b[0;32m-> 1842\u001b[0m num_examples, num_bytes \u001b[39m=\u001b[39m writer\u001b[39m.\u001b[39;49mfinalize()\n\u001b[1;32m   1843\u001b[0m writer\u001b[39m.\u001b[39mclose()\n",
      "File \u001b[0;32m/opt/homebrew/lib/python3.10/site-packages/datasets/arrow_writer.py:593\u001b[0m, in \u001b[0;36mArrowWriter.finalize\u001b[0;34m(self, close_stream)\u001b[0m\n\u001b[1;32m    592\u001b[0m         \u001b[39mself\u001b[39m\u001b[39m.\u001b[39mstream\u001b[39m.\u001b[39mclose()\n\u001b[0;32m--> 593\u001b[0m     \u001b[39mraise\u001b[39;00m SchemaInferenceError(\u001b[39m\"\u001b[39m\u001b[39mPlease pass `features` or at least one example when writing data\u001b[39m\u001b[39m\"\u001b[39m)\n\u001b[1;32m    594\u001b[0m logger\u001b[39m.\u001b[39mdebug(\n\u001b[1;32m    595\u001b[0m     \u001b[39mf\u001b[39m\u001b[39m\"\u001b[39m\u001b[39mDone writing \u001b[39m\u001b[39m{\u001b[39;00m\u001b[39mself\u001b[39m\u001b[39m.\u001b[39m_num_examples\u001b[39m}\u001b[39;00m\u001b[39m \u001b[39m\u001b[39m{\u001b[39;00m\u001b[39mself\u001b[39m\u001b[39m.\u001b[39munit\u001b[39m}\u001b[39;00m\u001b[39m in \u001b[39m\u001b[39m{\u001b[39;00m\u001b[39mself\u001b[39m\u001b[39m.\u001b[39m_num_bytes\u001b[39m}\u001b[39;00m\u001b[39m bytes \u001b[39m\u001b[39m{\u001b[39;00m\u001b[39mself\u001b[39m\u001b[39m.\u001b[39m_path \u001b[39mif\u001b[39;00m \u001b[39mself\u001b[39m\u001b[39m.\u001b[39m_path \u001b[39melse\u001b[39;00m \u001b[39m'\u001b[39m\u001b[39m'\u001b[39m\u001b[39m}\u001b[39;00m\u001b[39m.\u001b[39m\u001b[39m\"\u001b[39m\n\u001b[1;32m    596\u001b[0m )\n",
      "\u001b[0;31mSchemaInferenceError\u001b[0m: Please pass `features` or at least one example when writing data",
      "\nThe above exception was the direct cause of the following exception:\n",
      "\u001b[0;31mDatasetGenerationError\u001b[0m                    Traceback (most recent call last)",
      "Cell \u001b[0;32mIn[7], line 2\u001b[0m\n\u001b[1;32m      1\u001b[0m raw_train_ds \u001b[39m=\u001b[39m Dataset\u001b[39m.\u001b[39mfrom_json(\u001b[39m\"\u001b[39m\u001b[39minput.train.jsonlines\u001b[39m\u001b[39m\"\u001b[39m)\n\u001b[0;32m----> 2\u001b[0m raw_val_ds \u001b[39m=\u001b[39m Dataset\u001b[39m.\u001b[39;49mfrom_json(\u001b[39m\"\u001b[39;49m\u001b[39minput.validation.jsonlines\u001b[39;49m\u001b[39m\"\u001b[39;49m)\n\u001b[1;32m      3\u001b[0m ds \u001b[39m=\u001b[39m {\u001b[39m\"\u001b[39m\u001b[39mtrain\u001b[39m\u001b[39m\"\u001b[39m: raw_train_ds, \u001b[39m\"\u001b[39m\u001b[39mvalidation\u001b[39m\u001b[39m\"\u001b[39m: raw_val_ds}\n",
      "File \u001b[0;32m/opt/homebrew/lib/python3.10/site-packages/datasets/arrow_dataset.py:1060\u001b[0m, in \u001b[0;36mDataset.from_json\u001b[0;34m(path_or_paths, split, features, cache_dir, keep_in_memory, field, num_proc, **kwargs)\u001b[0m\n\u001b[1;32m   1048\u001b[0m \u001b[39m# Dynamic import to avoid circular dependency\u001b[39;00m\n\u001b[1;32m   1049\u001b[0m \u001b[39mfrom\u001b[39;00m \u001b[39m.\u001b[39;00m\u001b[39mio\u001b[39;00m\u001b[39m.\u001b[39;00m\u001b[39mjson\u001b[39;00m \u001b[39mimport\u001b[39;00m JsonDatasetReader\n\u001b[1;32m   1051\u001b[0m \u001b[39mreturn\u001b[39;00m JsonDatasetReader(\n\u001b[1;32m   1052\u001b[0m     path_or_paths,\n\u001b[1;32m   1053\u001b[0m     split\u001b[39m=\u001b[39;49msplit,\n\u001b[1;32m   1054\u001b[0m     features\u001b[39m=\u001b[39;49mfeatures,\n\u001b[1;32m   1055\u001b[0m     cache_dir\u001b[39m=\u001b[39;49mcache_dir,\n\u001b[1;32m   1056\u001b[0m     keep_in_memory\u001b[39m=\u001b[39;49mkeep_in_memory,\n\u001b[1;32m   1057\u001b[0m     field\u001b[39m=\u001b[39;49mfield,\n\u001b[1;32m   1058\u001b[0m     num_proc\u001b[39m=\u001b[39;49mnum_proc,\n\u001b[1;32m   1059\u001b[0m     \u001b[39m*\u001b[39;49m\u001b[39m*\u001b[39;49mkwargs,\n\u001b[0;32m-> 1060\u001b[0m )\u001b[39m.\u001b[39;49mread()\n",
      "File \u001b[0;32m/opt/homebrew/lib/python3.10/site-packages/datasets/io/json.py:59\u001b[0m, in \u001b[0;36mJsonDatasetReader.read\u001b[0;34m(self)\u001b[0m\n\u001b[1;32m     56\u001b[0m     ignore_verifications \u001b[39m=\u001b[39m \u001b[39mFalse\u001b[39;00m\n\u001b[1;32m     57\u001b[0m     base_path \u001b[39m=\u001b[39m \u001b[39mNone\u001b[39;00m\n\u001b[0;32m---> 59\u001b[0m     \u001b[39mself\u001b[39;49m\u001b[39m.\u001b[39;49mbuilder\u001b[39m.\u001b[39;49mdownload_and_prepare(\n\u001b[1;32m     60\u001b[0m         download_config\u001b[39m=\u001b[39;49mdownload_config,\n\u001b[1;32m     61\u001b[0m         download_mode\u001b[39m=\u001b[39;49mdownload_mode,\n\u001b[1;32m     62\u001b[0m         ignore_verifications\u001b[39m=\u001b[39;49mignore_verifications,\n\u001b[1;32m     63\u001b[0m         \u001b[39m# try_from_hf_gcs=try_from_hf_gcs,\u001b[39;49;00m\n\u001b[1;32m     64\u001b[0m         base_path\u001b[39m=\u001b[39;49mbase_path,\n\u001b[1;32m     65\u001b[0m         num_proc\u001b[39m=\u001b[39;49m\u001b[39mself\u001b[39;49m\u001b[39m.\u001b[39;49mnum_proc,\n\u001b[1;32m     66\u001b[0m     )\n\u001b[1;32m     67\u001b[0m     dataset \u001b[39m=\u001b[39m \u001b[39mself\u001b[39m\u001b[39m.\u001b[39mbuilder\u001b[39m.\u001b[39mas_dataset(\n\u001b[1;32m     68\u001b[0m         split\u001b[39m=\u001b[39m\u001b[39mself\u001b[39m\u001b[39m.\u001b[39msplit, ignore_verifications\u001b[39m=\u001b[39mignore_verifications, in_memory\u001b[39m=\u001b[39m\u001b[39mself\u001b[39m\u001b[39m.\u001b[39mkeep_in_memory\n\u001b[1;32m     69\u001b[0m     )\n\u001b[1;32m     70\u001b[0m \u001b[39mreturn\u001b[39;00m dataset\n",
      "File \u001b[0;32m/opt/homebrew/lib/python3.10/site-packages/datasets/builder.py:860\u001b[0m, in \u001b[0;36mDatasetBuilder.download_and_prepare\u001b[0;34m(self, output_dir, download_config, download_mode, ignore_verifications, try_from_hf_gcs, dl_manager, base_path, use_auth_token, file_format, max_shard_size, num_proc, storage_options, **download_and_prepare_kwargs)\u001b[0m\n\u001b[1;32m    858\u001b[0m     \u001b[39mif\u001b[39;00m num_proc \u001b[39mis\u001b[39;00m \u001b[39mnot\u001b[39;00m \u001b[39mNone\u001b[39;00m:\n\u001b[1;32m    859\u001b[0m         prepare_split_kwargs[\u001b[39m\"\u001b[39m\u001b[39mnum_proc\u001b[39m\u001b[39m\"\u001b[39m] \u001b[39m=\u001b[39m num_proc\n\u001b[0;32m--> 860\u001b[0m     \u001b[39mself\u001b[39;49m\u001b[39m.\u001b[39;49m_download_and_prepare(\n\u001b[1;32m    861\u001b[0m         dl_manager\u001b[39m=\u001b[39;49mdl_manager,\n\u001b[1;32m    862\u001b[0m         verify_infos\u001b[39m=\u001b[39;49mverify_infos,\n\u001b[1;32m    863\u001b[0m         \u001b[39m*\u001b[39;49m\u001b[39m*\u001b[39;49mprepare_split_kwargs,\n\u001b[1;32m    864\u001b[0m         \u001b[39m*\u001b[39;49m\u001b[39m*\u001b[39;49mdownload_and_prepare_kwargs,\n\u001b[1;32m    865\u001b[0m     )\n\u001b[1;32m    866\u001b[0m \u001b[39m# Sync info\u001b[39;00m\n\u001b[1;32m    867\u001b[0m \u001b[39mself\u001b[39m\u001b[39m.\u001b[39minfo\u001b[39m.\u001b[39mdataset_size \u001b[39m=\u001b[39m \u001b[39msum\u001b[39m(split\u001b[39m.\u001b[39mnum_bytes \u001b[39mfor\u001b[39;00m split \u001b[39min\u001b[39;00m \u001b[39mself\u001b[39m\u001b[39m.\u001b[39minfo\u001b[39m.\u001b[39msplits\u001b[39m.\u001b[39mvalues())\n",
      "File \u001b[0;32m/opt/homebrew/lib/python3.10/site-packages/datasets/builder.py:953\u001b[0m, in \u001b[0;36mDatasetBuilder._download_and_prepare\u001b[0;34m(self, dl_manager, verify_infos, **prepare_split_kwargs)\u001b[0m\n\u001b[1;32m    949\u001b[0m split_dict\u001b[39m.\u001b[39madd(split_generator\u001b[39m.\u001b[39msplit_info)\n\u001b[1;32m    951\u001b[0m \u001b[39mtry\u001b[39;00m:\n\u001b[1;32m    952\u001b[0m     \u001b[39m# Prepare split will record examples associated to the split\u001b[39;00m\n\u001b[0;32m--> 953\u001b[0m     \u001b[39mself\u001b[39;49m\u001b[39m.\u001b[39;49m_prepare_split(split_generator, \u001b[39m*\u001b[39;49m\u001b[39m*\u001b[39;49mprepare_split_kwargs)\n\u001b[1;32m    954\u001b[0m \u001b[39mexcept\u001b[39;00m \u001b[39mOSError\u001b[39;00m \u001b[39mas\u001b[39;00m e:\n\u001b[1;32m    955\u001b[0m     \u001b[39mraise\u001b[39;00m \u001b[39mOSError\u001b[39;00m(\n\u001b[1;32m    956\u001b[0m         \u001b[39m\"\u001b[39m\u001b[39mCannot find data file. \u001b[39m\u001b[39m\"\u001b[39m\n\u001b[1;32m    957\u001b[0m         \u001b[39m+\u001b[39m (\u001b[39mself\u001b[39m\u001b[39m.\u001b[39mmanual_download_instructions \u001b[39mor\u001b[39;00m \u001b[39m\"\u001b[39m\u001b[39m\"\u001b[39m)\n\u001b[1;32m    958\u001b[0m         \u001b[39m+\u001b[39m \u001b[39m\"\u001b[39m\u001b[39m\\n\u001b[39;00m\u001b[39mOriginal error:\u001b[39m\u001b[39m\\n\u001b[39;00m\u001b[39m\"\u001b[39m\n\u001b[1;32m    959\u001b[0m         \u001b[39m+\u001b[39m \u001b[39mstr\u001b[39m(e)\n\u001b[1;32m    960\u001b[0m     ) \u001b[39mfrom\u001b[39;00m \u001b[39mNone\u001b[39m\n",
      "File \u001b[0;32m/opt/homebrew/lib/python3.10/site-packages/datasets/builder.py:1708\u001b[0m, in \u001b[0;36mArrowBasedBuilder._prepare_split\u001b[0;34m(self, split_generator, file_format, num_proc, max_shard_size)\u001b[0m\n\u001b[1;32m   1706\u001b[0m gen_kwargs \u001b[39m=\u001b[39m split_generator\u001b[39m.\u001b[39mgen_kwargs\n\u001b[1;32m   1707\u001b[0m job_id \u001b[39m=\u001b[39m \u001b[39m0\u001b[39m\n\u001b[0;32m-> 1708\u001b[0m \u001b[39mfor\u001b[39;00m job_id, done, content \u001b[39min\u001b[39;00m \u001b[39mself\u001b[39m\u001b[39m.\u001b[39m_prepare_split_single(\n\u001b[1;32m   1709\u001b[0m     gen_kwargs\u001b[39m=\u001b[39mgen_kwargs, job_id\u001b[39m=\u001b[39mjob_id, \u001b[39m*\u001b[39m\u001b[39m*\u001b[39m_prepare_split_args\n\u001b[1;32m   1710\u001b[0m ):\n\u001b[1;32m   1711\u001b[0m     \u001b[39mif\u001b[39;00m done:\n\u001b[1;32m   1712\u001b[0m         result \u001b[39m=\u001b[39m content\n",
      "File \u001b[0;32m/opt/homebrew/lib/python3.10/site-packages/datasets/builder.py:1851\u001b[0m, in \u001b[0;36mArrowBasedBuilder._prepare_split_single\u001b[0;34m(self, gen_kwargs, fpath, file_format, max_shard_size, job_id)\u001b[0m\n\u001b[1;32m   1849\u001b[0m     \u001b[39mif\u001b[39;00m \u001b[39misinstance\u001b[39m(e, SchemaInferenceError) \u001b[39mand\u001b[39;00m e\u001b[39m.\u001b[39m__context__ \u001b[39mis\u001b[39;00m \u001b[39mnot\u001b[39;00m \u001b[39mNone\u001b[39;00m:\n\u001b[1;32m   1850\u001b[0m         e \u001b[39m=\u001b[39m e\u001b[39m.\u001b[39m__context__\n\u001b[0;32m-> 1851\u001b[0m     \u001b[39mraise\u001b[39;00m DatasetGenerationError(\u001b[39m\"\u001b[39m\u001b[39mAn error occurred while generating the dataset\u001b[39m\u001b[39m\"\u001b[39m) \u001b[39mfrom\u001b[39;00m \u001b[39me\u001b[39;00m\n\u001b[1;32m   1853\u001b[0m \u001b[39myield\u001b[39;00m job_id, \u001b[39mTrue\u001b[39;00m, (total_num_examples, total_num_bytes, writer\u001b[39m.\u001b[39m_features, num_shards, shard_lengths)\n",
      "\u001b[0;31mDatasetGenerationError\u001b[0m: An error occurred while generating the dataset"
     ]
    }
   ],
   "source": [
    "raw_train_ds = Dataset.from_json(\"input.train.jsonlines\")\n",
    "raw_val_ds = Dataset.from_json(\"input.validation.jsonlines\")\n",
    "ds = {\"train\": raw_train_ds, \"validation\": raw_val_ds}"
   ]
  },
  {
   "cell_type": "code",
   "execution_count": null,
   "metadata": {},
   "outputs": [],
   "source": []
  }
 ],
 "metadata": {
  "kernelspec": {
   "display_name": "Python 3",
   "language": "python",
   "name": "python3"
  },
  "language_info": {
   "codemirror_mode": {
    "name": "ipython",
    "version": 3
   },
   "file_extension": ".py",
   "mimetype": "text/x-python",
   "name": "python",
   "nbconvert_exporter": "python",
   "pygments_lexer": "ipython3",
   "version": "3.10.8"
  },
  "orig_nbformat": 4,
  "vscode": {
   "interpreter": {
    "hash": "b0fa6594d8f4cbf19f97940f81e996739fb7646882a419484c72d19e05852a7e"
   }
  }
 },
 "nbformat": 4,
 "nbformat_minor": 2
}
